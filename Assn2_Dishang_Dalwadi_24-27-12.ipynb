{
 "cells": [
  {
   "cell_type": "markdown",
   "id": "99d2c968",
   "metadata": {},
   "source": [
    "# Name: Dishang Dalwadi\n",
    "# Reg No.: 24-27-12\n",
    "# M.Tech Data Science\n",
    "# Assignment 2"
   ]
  },
  {
   "cell_type": "markdown",
   "id": "107b1206",
   "metadata": {},
   "source": [
    "# Q1.\n",
    "a) Create a variable named var1 that stores an array of numbers from 0 to 30,\n",
    "inclusive. Print var1 and its shape. Hint : arange"
   ]
  },
  {
   "cell_type": "code",
   "execution_count": 27,
   "id": "66b616c5",
   "metadata": {},
   "outputs": [
    {
     "name": "stdout",
     "output_type": "stream",
     "text": [
      "Array: [ 0  1  2  3  4  5  6  7  8  9 10 11 12 13 14 15 16 17 18 19 20 21 22 23\n",
      " 24 25 26 27 28 29 30]\n",
      "Shape: (31,)\n"
     ]
    }
   ],
   "source": [
    "import numpy as np\n",
    "\n",
    "# Create an array using np.arange from 0 to 30 inclusive\n",
    "var1 = np.arange(0, 31)\n",
    "\n",
    "# Print the array and its shape\n",
    "print(\"Array:\", var1)\n",
    "print(\"Shape:\", var1.shape)\n",
    "\n"
   ]
  },
  {
   "cell_type": "markdown",
   "id": "4d42b249",
   "metadata": {},
   "source": [
    "b) Change var2 to a validly-shaped two-dimensional matrix and store it in a\n",
    "new variable called var2. Print var2 and its shape. Hint: Use the reshape function"
   ]
  },
  {
   "cell_type": "code",
   "execution_count": 28,
   "id": "d5c96699",
   "metadata": {},
   "outputs": [
    {
     "name": "stdout",
     "output_type": "stream",
     "text": [
      "2D Matrix (var2):\n",
      " [[ 0  1  2  3  4  5  6  7  8  9 10 11 12 13 14 15 16 17 18 19 20 21 22 23\n",
      "  24 25 26 27 28 29 30]]\n",
      "Shape: (1, 31)\n"
     ]
    }
   ],
   "source": [
    "# Create the original array var1\n",
    "var1 = np.arange(0, 31)\n",
    "\n",
    "# Reshape var1 into a two-dimensional matrix and store it in var2\n",
    "var2 = var1.reshape(1, 31)  # Reshape into a matrix with 1 row and 31 columns\n",
    "\n",
    "# Print the new matrix and its shape\n",
    "print(\"2D Matrix (var2):\\n\", var2)\n",
    "print(\"Shape:\", var2.shape)\n",
    "\n"
   ]
  },
  {
   "cell_type": "markdown",
   "id": "99a7fc06",
   "metadata": {},
   "source": [
    "c) Create a third variable, var3 that reshapes it into a valid three-dimensional shape.\n",
    "Print var3 and its shape."
   ]
  },
  {
   "cell_type": "code",
   "execution_count": 29,
   "id": "90792dbb",
   "metadata": {},
   "outputs": [
    {
     "name": "stdout",
     "output_type": "stream",
     "text": [
      "3D Matrix (var3):\n",
      " [[[ 0]\n",
      "  [ 1]\n",
      "  [ 2]\n",
      "  [ 3]\n",
      "  [ 4]\n",
      "  [ 5]\n",
      "  [ 6]\n",
      "  [ 7]\n",
      "  [ 8]\n",
      "  [ 9]\n",
      "  [10]\n",
      "  [11]\n",
      "  [12]\n",
      "  [13]\n",
      "  [14]\n",
      "  [15]\n",
      "  [16]\n",
      "  [17]\n",
      "  [18]\n",
      "  [19]\n",
      "  [20]\n",
      "  [21]\n",
      "  [22]\n",
      "  [23]\n",
      "  [24]\n",
      "  [25]\n",
      "  [26]\n",
      "  [27]\n",
      "  [28]\n",
      "  [29]\n",
      "  [30]]]\n",
      "Shape: (1, 31, 1)\n"
     ]
    }
   ],
   "source": [
    "# Create the original array var1\n",
    "var1 = np.arange(0, 31)\n",
    "\n",
    "# Reshape var1 into a three-dimensional matrix\n",
    "var3 = var1.reshape(1, 31, 1)  # Example shape: (1, 31, 1)\n",
    "\n",
    "# Print the new 3D matrix and its shape\n",
    "print(\"3D Matrix (var3):\\n\", var3)\n",
    "print(\"Shape:\", var3.shape)\n"
   ]
  },
  {
   "cell_type": "markdown",
   "id": "9bff81c7",
   "metadata": {},
   "source": [
    "d) Use two-dimensional array indexing to set the first value in the second row of var2\n",
    "to -1. Now look at var1 and var3. Did they change? Explain what’s\n",
    "going on. (Hint: does reshape return a view or a copy?)"
   ]
  },
  {
   "cell_type": "code",
   "execution_count": 30,
   "id": "d194928d",
   "metadata": {},
   "outputs": [
    {
     "name": "stdout",
     "output_type": "stream",
     "text": [
      "Updated 2D Matrix (var2):\n",
      " [[ 0  1  2  3  4  5]\n",
      " [-1  7  8  9 10 11]\n",
      " [12 13 14 15 16 17]\n",
      " [18 19 20 21 22 23]\n",
      " [24 25 26 27 28 29]]\n",
      "Original Array (var1):\n",
      " [ 0  1  2  3  4  5 -1  7  8  9 10 11 12 13 14 15 16 17 18 19 20 21 22 23\n",
      " 24 25 26 27 28 29]\n",
      "3D Matrix (var3):\n",
      " [[[ 0  1]\n",
      "  [ 2  3]\n",
      "  [ 4  5]\n",
      "  [-1  7]\n",
      "  [ 8  9]]\n",
      "\n",
      " [[10 11]\n",
      "  [12 13]\n",
      "  [14 15]\n",
      "  [16 17]\n",
      "  [18 19]]\n",
      "\n",
      " [[20 21]\n",
      "  [22 23]\n",
      "  [24 25]\n",
      "  [26 27]\n",
      "  [28 29]]]\n"
     ]
    }
   ],
   "source": [
    "# Create the original array var1\n",
    "var1 = np.arange(0, 31)\n",
    "\n",
    "# Remove the last element to make it 30 elements, as we want to reshape into (5, 6)\n",
    "var1 = var1[:-1]\n",
    "\n",
    "# Reshape var1 into a two-dimensional matrix (var2)\n",
    "var2 = var1.reshape(5, 6)\n",
    "\n",
    "# Modify the first value in the second row of var2\n",
    "var2[1, 0] = -1\n",
    "\n",
    "# Print var2, var1, and var3 (before and after)\n",
    "print(\"Updated 2D Matrix (var2):\\n\", var2)\n",
    "print(\"Original Array (var1):\\n\", var1)\n",
    "\n",
    "# Reshape var1 into a three-dimensional matrix (var3)\n",
    "var3 = var1.reshape(3, 5, 2)\n",
    "\n",
    "print(\"3D Matrix (var3):\\n\", var3)\n"
   ]
  },
  {
   "cell_type": "markdown",
   "id": "0e4b0896",
   "metadata": {},
   "source": [
    "e) Another thing that comes up a lot with array shapes is thinking about how to\n",
    "aggregate over specific dimensions. Figure out how the NumPy sum function\n",
    "works (and the axis argument in particular) and do the following:\n",
    "(i) Sum var3 over its second dimension and print the result.\n",
    "(ii) Sum var3 over its third dimension and print the result.\n",
    "(iii) Sum var3 over both its first and third dimensions and print the result."
   ]
  },
  {
   "cell_type": "code",
   "execution_count": 31,
   "id": "23705196",
   "metadata": {},
   "outputs": [
    {
     "name": "stdout",
     "output_type": "stream",
     "text": [
      "Sum over second dimension (axis=1):\n",
      " [[ 20  25]\n",
      " [ 70  75]\n",
      " [120 125]]\n",
      "Shape: (3, 2)\n",
      "Sum over third dimension (axis=2):\n",
      " [[ 1  5  9 13 17]\n",
      " [21 25 29 33 37]\n",
      " [41 45 49 53 57]]\n",
      "Shape: (3, 5)\n",
      "Sum over first and third dimensions (axis=(0, 2)):\n",
      " [ 63  75  87  99 111]\n",
      "Shape: (5,)\n"
     ]
    }
   ],
   "source": [
    "# Create the original array var1 and modify it to 30 elements\n",
    "var1 = np.arange(0, 31)[:-1]\n",
    "\n",
    "# Reshape var1 into a 3D matrix var3\n",
    "var3 = var1.reshape(3, 5, 2)  # Shape: (3, 5, 2)\n",
    "\n",
    "# (i) Sum var3 over its second dimension (axis=1)\n",
    "sum_over_second_dim = np.sum(var3, axis=1)\n",
    "print(\"Sum over second dimension (axis=1):\\n\", sum_over_second_dim)\n",
    "print(\"Shape:\", sum_over_second_dim.shape)\n",
    "\n",
    "# (ii) Sum var3 over its third dimension (axis=2)\n",
    "sum_over_third_dim = np.sum(var3, axis=2)\n",
    "print(\"Sum over third dimension (axis=2):\\n\", sum_over_third_dim)\n",
    "print(\"Shape:\", sum_over_third_dim.shape)\n",
    "\n",
    "# (iii) Sum var3 over both its first and third dimensions (axis=(0, 2))\n",
    "sum_over_first_third_dim = np.sum(var3, axis=(0, 2))\n",
    "print(\"Sum over first and third dimensions (axis=(0, 2)):\\n\", sum_over_first_third_dim)\n",
    "print(\"Shape:\", sum_over_first_third_dim.shape)\n"
   ]
  },
  {
   "cell_type": "markdown",
   "id": "18fa5688",
   "metadata": {},
   "source": [
    "f) Write code to do the following:\n",
    "(i) Slice out the second row of var2 and print it.\n",
    "(ii) Slice out the last column of var2 using the -1 notation and print it.\n",
    "(iii) Slice out the top right 2 × 2 submatrix of var2 and print it."
   ]
  },
  {
   "cell_type": "code",
   "execution_count": 32,
   "id": "5006c8b1",
   "metadata": {},
   "outputs": [
    {
     "name": "stdout",
     "output_type": "stream",
     "text": [
      "Second Row of var2:\n",
      " [ 6  7  8  9 10 11]\n",
      "Last Column of var2:\n",
      " [ 5 11 17 23 29]\n",
      "Top Right 2x2 Submatrix of var2:\n",
      " [[ 4  5]\n",
      " [10 11]]\n"
     ]
    }
   ],
   "source": [
    "# Create the original array var1 and modify it to 30 elements\n",
    "var1 = np.arange(0, 31)[:-1]\n",
    "\n",
    "# Reshape var1 into a two-dimensional matrix (var2)\n",
    "var2 = var1.reshape(5, 6)  # Shape: (5, 6)\n",
    "\n",
    "# (i) Slice out the second row of var2\n",
    "second_row = var2[1, :]  # Indexing to get the second row\n",
    "print(\"Second Row of var2:\\n\", second_row)\n",
    "\n",
    "# (ii) Slice out the last column of var2 using -1 notation\n",
    "last_column = var2[:, -1]  # Indexing to get the last column\n",
    "print(\"Last Column of var2:\\n\", last_column)\n",
    "\n",
    "# (iii) Slice out the top right 2 × 2 submatrix of var2\n",
    "top_right_submatrix = var2[0:2, -2:]  # Get the first two rows and last two columns\n",
    "print(\"Top Right 2x2 Submatrix of var2:\\n\", top_right_submatrix)\n"
   ]
  },
  {
   "cell_type": "markdown",
   "id": "6c4955d2",
   "metadata": {},
   "source": [
    "# Q2.\n",
    "a) The most basic kind of broadcast is with a scalar, in which you can perform a\n",
    "binary operation (e.g., add, multiply, ...) on an array and a scalar, the effect is to\n",
    "perform that operation with the scalar for every element of the array. To try this\n",
    "out, create a vector 1, 2, . . . , 10 by adding 1 to the result of the arange function."
   ]
  },
  {
   "cell_type": "code",
   "execution_count": 33,
   "id": "43f305f8",
   "metadata": {},
   "outputs": [
    {
     "name": "stdout",
     "output_type": "stream",
     "text": [
      "Vector from 1 to 10:\n",
      " [ 1  2  3  4  5  6  7  8  9 10]\n"
     ]
    }
   ],
   "source": [
    "# Create a vector from 1 to 10 by adding 1 to the result of np.arange(10)\n",
    "vector = np.arange(10) + 1\n",
    "\n",
    "# Print the resulting vector\n",
    "print(\"Vector from 1 to 10:\\n\", vector)\n"
   ]
  },
  {
   "cell_type": "markdown",
   "id": "26879c61",
   "metadata": {},
   "source": [
    "b) Now, create a 10 × 10 matrix A in which Ai j = i + j. You’ll be able to do this\n",
    "using the vector you just created, and adding it to a reshaped version of itself."
   ]
  },
  {
   "cell_type": "code",
   "execution_count": 34,
   "id": "bc33b480",
   "metadata": {},
   "outputs": [
    {
     "name": "stdout",
     "output_type": "stream",
     "text": [
      "Matrix A (10x10) where A[i, j] = i + j:\n",
      " [[ 2  3  4  5  6  7  8  9 10 11]\n",
      " [ 3  4  5  6  7  8  9 10 11 12]\n",
      " [ 4  5  6  7  8  9 10 11 12 13]\n",
      " [ 5  6  7  8  9 10 11 12 13 14]\n",
      " [ 6  7  8  9 10 11 12 13 14 15]\n",
      " [ 7  8  9 10 11 12 13 14 15 16]\n",
      " [ 8  9 10 11 12 13 14 15 16 17]\n",
      " [ 9 10 11 12 13 14 15 16 17 18]\n",
      " [10 11 12 13 14 15 16 17 18 19]\n",
      " [11 12 13 14 15 16 17 18 19 20]]\n"
     ]
    }
   ],
   "source": [
    "# Create a vector from 1 to 10\n",
    "vector = np.arange(10) + 1  # This gives us [1, 2, 3, ..., 10]\n",
    "\n",
    "# Create a 10x10 matrix A where A[i, j] = i + j\n",
    "A = vector[:, np.newaxis] + vector  # Reshape vector to a column vector and add\n",
    "\n",
    "# Print the resulting matrix A\n",
    "print(\"Matrix A (10x10) where A[i, j] = i + j:\\n\", A)\n"
   ]
  },
  {
   "cell_type": "markdown",
   "id": "e46fd214",
   "metadata": {},
   "source": [
    "c) A very common use of broadcasting is to standardize data, i.e., to make it have\n",
    "zero mean and unit variance. First, create a fake “data set” with 50 examples,\n",
    "each with five dimensions.\n",
    "import numpy.random as npr\n",
    "data = np.exp(npr.randn ( 50 , 5 ) )"
   ]
  },
  {
   "cell_type": "code",
   "execution_count": 36,
   "id": "b2386470",
   "metadata": {},
   "outputs": [
    {
     "name": "stdout",
     "output_type": "stream",
     "text": [
      "Fake Dataset (50 examples, 5 dimensions):\n",
      " [[ 3.19230065  0.38387428  0.38692018  1.27279691  0.10062715]\n",
      " [ 0.15479216  2.52139838  1.47551263  0.48465496  0.9351145 ]\n",
      " [ 2.74953378  0.69866239  0.29415409  2.03255244  7.23714842]\n",
      " [ 0.71798918  1.03104056  0.39352771  3.61051886  0.96596917]\n",
      " [ 0.62622725  0.96827861  1.68748112  0.16481619  0.33108947]\n",
      " [ 0.31505742  1.3622766   0.81328122  0.70979654  0.21945152]\n",
      " [ 0.617513    0.65917364  0.35431778  0.88780738  0.64382128]\n",
      " [ 0.17663348  1.12241003  1.74638361  0.4662626   0.53710131]\n",
      " [ 2.25970057  1.47742133  2.8737908   1.46905223  0.60520858]\n",
      " [ 5.48792643  0.88610202  5.7042413   0.61106901  7.98335976]\n",
      " [ 1.9672775   1.83536775  3.9057081   3.49361216  0.97024013]\n",
      " [ 0.63840524  0.55569299  2.30567889  2.96787756 12.92239711]\n",
      " [ 0.10016212  0.69199991  1.19153285  4.55665662  1.0830834 ]\n",
      " [15.85109567  0.41484041  9.51812168  9.73736335  3.11917023]\n",
      " [ 1.08839201  0.25174172  0.43283007  0.25219793  3.78221591]\n",
      " [ 0.3591443   0.65307686  0.90014315  3.4425771   0.74758304]\n",
      " [ 3.88838819  0.7602191   0.38605413  2.35193561  3.5814638 ]\n",
      " [ 0.5793934   0.18974773  1.43400778  0.93981372  0.93204798]\n",
      " [12.85946676  0.78836094  0.90483653  1.10206846  0.09321544]\n",
      " [ 2.76425102  0.13235764  6.57680507  4.85079513  1.24484439]\n",
      " [ 0.80806445  1.20084624  0.3187682   2.34000906  0.2759756 ]\n",
      " [ 0.68403542  0.14639907  2.9515928   0.73040341  1.41981763]\n",
      " [ 1.069175    0.69002391  0.69605442  0.84050003  1.06119225]\n",
      " [ 2.85171935  0.61323745  0.30134173 10.4966755   1.53329594]\n",
      " [ 6.06079983  2.04938333  0.55148267  1.25684953  0.46206004]\n",
      " [ 0.29669784  0.40463603  3.17903303  0.50860972  1.56940787]\n",
      " [ 2.69608143  1.76160546  0.17157236  0.33761777  3.64050572]\n",
      " [ 2.37743073  3.85053321  1.21546206  0.39799     0.57707895]\n",
      " [ 2.06820945  0.05493559  0.25387207  0.437319    1.19391362]\n",
      " [ 1.85306709  0.58930212  0.11678149  2.08372216  0.89010121]\n",
      " [ 1.09105898  0.21717068  0.19462329  0.96200544  0.38370724]\n",
      " [ 2.46017056  6.55398052  0.38613475  1.44523857  0.65385729]\n",
      " [ 0.59656077  1.42230948  0.4702719   4.17956039  0.4194688 ]\n",
      " [ 0.20109632  0.73620613  1.49234882  0.32701301  2.50256829]\n",
      " [ 1.45384245  0.84485207  0.60252058  2.02777534  0.16228273]\n",
      " [ 0.42141313  6.10474946  0.13087898  1.50622778  0.71311852]\n",
      " [ 1.39026033  8.42916944  0.57743287  2.66237089  2.87898633]\n",
      " [ 7.90080732  1.37562975  4.1765051   0.90730445  0.46605212]\n",
      " [ 0.61653337  0.42912431  0.29135082  2.09105583  2.15888197]\n",
      " [ 0.96960059  0.68193351  1.69551233  0.75148282  2.26626619]\n",
      " [ 0.24973559  0.57121277  0.72565654  0.60716085  1.17938989]\n",
      " [ 2.35974532  1.99573025  1.43361836  0.84677284  1.62580488]\n",
      " [ 4.39911137  0.46933403  0.98288367  4.59798671  2.1157716 ]\n",
      " [ 1.17901551  1.64673097  2.47691612  0.55014918  0.64934346]\n",
      " [ 3.64061861  0.35055572  0.42486131  1.27333824  0.31386322]\n",
      " [ 0.36970003  0.89515199  0.9136437   0.1259419   0.80495911]\n",
      " [ 0.14347575  0.43904523  0.32472633 11.40069851  0.69665592]\n",
      " [ 0.24348282  0.47198347  2.14466654  1.48811846  3.80047784]\n",
      " [ 1.85726421  0.860482    1.00890971  2.13508765  0.36909662]\n",
      " [ 0.52956766  0.87150065  0.94226448  0.43596511  4.27390981]]\n"
     ]
    }
   ],
   "source": [
    "# Create a fake dataset with 50 examples and 5 dimensions\n",
    "data = np.exp(npr.randn(50, 5))\n",
    "\n",
    "# Print the resulting dataset\n",
    "print(\"Fake Dataset (50 examples, 5 dimensions):\\n\", data)\n"
   ]
  },
  {
   "cell_type": "markdown",
   "id": "a177bea6",
   "metadata": {},
   "source": [
    "d) You don’t worry too much about what this code is doing at this stage of the course, but for completeness: it imports the NumPy random number generation library, then generates a 50 × 5 matrix of standard normal random variates and exponentiates them. The effect of this is to have a pretend data set of 50 independent and identically-distributed vectors from a log-normal\n",
    "distribution."
   ]
  },
  {
   "cell_type": "code",
   "execution_count": 37,
   "id": "7f4f99ce",
   "metadata": {},
   "outputs": [
    {
     "name": "stdout",
     "output_type": "stream",
     "text": [
      "Fake Dataset (50 examples, 5 dimensions):\n",
      " [[1.37791347 1.11928551 1.70827099 1.84230911 0.97080212]\n",
      " [3.87318661 0.36736939 0.37406758 1.51646456 2.40941487]\n",
      " [0.98295489 3.31294774 0.45293917 0.27795471 5.05265654]\n",
      " [0.72408901 1.02920001 0.70575532 0.64325943 1.78059706]\n",
      " [1.41242175 0.69924941 0.47392408 1.34967751 1.54892389]\n",
      " [0.35261856 0.98462564 0.14545478 2.90765335 0.66783685]\n",
      " [1.02118451 0.53968331 1.59223661 0.13604646 0.2580403 ]\n",
      " [2.27263228 0.2134767  0.61701274 0.26998306 0.22220946]\n",
      " [0.33179984 1.26300036 0.80935992 0.21615501 1.5526403 ]\n",
      " [3.25721054 0.63379018 1.87814578 0.69220894 0.31825685]\n",
      " [0.23404073 1.32229755 0.21186    1.76644201 0.84522463]\n",
      " [1.25119407 2.4906339  2.16641622 1.54399797 0.41888959]\n",
      " [2.77487608 0.45153234 0.5087221  3.26458038 5.53440391]\n",
      " [1.71420116 0.38788104 1.5605881  0.87039243 1.14537667]\n",
      " [0.25662218 2.81201092 0.7701741  0.47980199 1.06256786]\n",
      " [0.6742078  0.36125268 1.13407856 1.15028521 7.82474731]\n",
      " [0.61096507 2.31358956 4.75338956 0.52157833 0.84022792]\n",
      " [0.27490704 2.06188791 0.48230548 1.45026798 1.13310943]\n",
      " [0.68471511 0.18250651 1.49975616 0.2383204  0.26112841]\n",
      " [1.14141323 0.71253405 0.66777969 1.32123197 0.24779155]\n",
      " [2.00954259 1.37410325 0.4562882  0.2253136  2.90360124]\n",
      " [0.65447132 0.88408347 3.25445041 0.27029253 0.52473939]\n",
      " [0.97698025 1.07883096 3.29435548 0.49091615 1.4272158 ]\n",
      " [2.97925147 1.61810365 0.34087713 0.4012406  2.52421227]\n",
      " [0.78809936 2.85627537 2.04015632 2.32297556 2.47806007]\n",
      " [0.05597555 0.15715683 0.84514554 3.85045161 3.51760004]\n",
      " [0.7572613  2.78185971 2.3120627  0.58470941 0.64091062]\n",
      " [0.19457167 2.18844148 0.92796032 1.11827948 1.11411762]\n",
      " [6.66326313 0.63770945 0.11851864 0.9098802  1.11257684]\n",
      " [0.21698694 8.30671326 0.15404102 1.60982692 1.43731644]\n",
      " [2.49296162 0.63888896 0.92043255 0.56084854 1.78687723]\n",
      " [1.43763517 0.2688644  2.4853555  1.39525458 0.12058786]\n",
      " [0.56713498 0.37387885 0.56353943 2.91979243 0.01367003]\n",
      " [3.56900021 0.28019523 0.77256573 1.23919543 0.25479354]\n",
      " [5.18913687 0.61172976 0.68703888 2.68367664 3.09854714]\n",
      " [1.97891079 0.2104817  0.37281582 1.49920204 0.68385483]\n",
      " [0.37762265 2.82400042 1.57500883 0.57014212 0.22844394]\n",
      " [1.93366872 0.70544601 0.36902783 1.84934546 0.38897584]\n",
      " [0.56367086 1.9750786  0.54699167 1.15460457 5.22331378]\n",
      " [4.17547029 0.3630985  0.21383528 1.44877614 2.2649524 ]\n",
      " [2.55111371 1.98860209 3.57565852 0.30276041 4.65578168]\n",
      " [0.7473485  1.36601369 0.54720966 0.51270591 0.19134902]\n",
      " [1.07266523 2.1684335  1.28379617 0.52462085 1.4955749 ]\n",
      " [0.9893215  3.30394324 1.22423087 0.42795008 0.09621835]\n",
      " [2.74225212 1.80132182 0.47587776 0.39319683 2.5317353 ]\n",
      " [1.33492907 2.05354785 1.26974984 0.69674886 1.3368477 ]\n",
      " [0.97341898 1.22059825 0.39314532 1.92558118 0.27994593]\n",
      " [0.1229469  0.82425685 1.67646149 0.06651018 1.14218284]\n",
      " [0.24335298 1.43090682 0.61511212 2.16104182 0.96310849]\n",
      " [1.03157135 0.24089776 0.51843568 1.53178773 1.96837559]]\n"
     ]
    }
   ],
   "source": [
    "# Create a fake dataset with 50 examples and 5 dimensions\n",
    "data = np.exp(npr.randn(50, 5))\n",
    "\n",
    "# Print the resulting dataset\n",
    "print(\"Fake Dataset (50 examples, 5 dimensions):\\n\", data)\n"
   ]
  },
  {
   "cell_type": "markdown",
   "id": "62bd1bdf",
   "metadata": {},
   "source": [
    "e) Now, compute the mean and standard deviation of each column. This should\n",
    "result in two vectors of length 5. You’ll need to think a little bit about how to use\n",
    "the axis argument to mean and std. Store these vectors into variables and print\n",
    "both of them."
   ]
  },
  {
   "cell_type": "code",
   "execution_count": 38,
   "id": "309380df",
   "metadata": {},
   "outputs": [
    {
     "name": "stdout",
     "output_type": "stream",
     "text": [
      "Mean of each column:\n",
      " [1.62268955 1.58087729 1.44890925 1.52643766 1.5223247 ]\n",
      "Standard deviation of each column:\n",
      " [1.58004182 1.57768148 1.45774755 1.50227961 1.82817081]\n"
     ]
    }
   ],
   "source": [
    "# Create a fake dataset with 50 examples and 5 dimensions\n",
    "data = np.exp(npr.randn(50, 5))\n",
    "\n",
    "# Compute the mean of each column (axis=0)\n",
    "column_means = np.mean(data, axis=0)\n",
    "\n",
    "# Compute the standard deviation of each column (axis=0)\n",
    "column_std = np.std(data, axis=0)\n",
    "\n",
    "# Print the resulting mean and standard deviation vectors\n",
    "print(\"Mean of each column:\\n\", column_means)\n",
    "print(\"Standard deviation of each column:\\n\", column_std)\n"
   ]
  },
  {
   "cell_type": "markdown",
   "id": "4827bb85",
   "metadata": {},
   "source": [
    "f) Now standardize the data matrix by 1) subtracting the mean off of each column,\n",
    "and 2) dividing each column by its standard deviation. Do this via broadcasting,\n",
    "and store the result in a matrix called normalized. To verify that you successfully\n",
    "did it, compute the mean and standard deviation of\n",
    "the columns of normalized and print them out."
   ]
  },
  {
   "cell_type": "code",
   "execution_count": 39,
   "id": "bbfb2088",
   "metadata": {
    "scrolled": false
   },
   "outputs": [
    {
     "name": "stdout",
     "output_type": "stream",
     "text": [
      "Normalized Data:\n",
      " [[-5.95630349e-02  1.50493732e+00 -9.74114673e-01 -4.35787215e-01\n",
      "   3.86015720e-03]\n",
      " [-3.91577502e-01 -2.31927223e-01  2.02908451e+00  3.34830112e-01\n",
      "   1.05882404e+00]\n",
      " [-1.28855588e-01 -6.28931471e-01 -7.64859436e-01 -2.29175801e-01\n",
      "  -7.56137731e-01]\n",
      " [ 3.42061481e-01 -5.53989483e-01 -5.93459836e-01  2.54972345e-01\n",
      "  -5.76967915e-01]\n",
      " [-3.05378569e-01 -6.76335066e-01 -5.96284765e-01 -7.34564297e-01\n",
      "   1.98249261e-01]\n",
      " [-5.70967481e-01  7.47243213e-01  8.85894322e-01 -1.55099313e-03\n",
      "   5.48642845e-01]\n",
      " [-5.01612087e-01 -5.91277650e-01 -1.37419881e-01  1.77865009e+00\n",
      "  -6.26662643e-01]\n",
      " [-4.18359447e-01 -3.77065174e-01 -8.63044278e-01  8.47913656e-01\n",
      "   2.90996518e-01]\n",
      " [ 6.41503671e-01 -5.81890845e-01 -8.67764784e-01  1.08019189e+00\n",
      "   6.43239365e-01]\n",
      " [-4.43250948e-01 -3.15274990e-01  1.50041786e-01 -6.57444433e-01\n",
      "  -2.44604295e-01]\n",
      " [ 4.71211476e-02  8.49629930e-01  9.58878351e-01  1.86002144e+00\n",
      "  -3.88803006e-01]\n",
      " [-2.87484262e-01 -3.88285945e-01 -8.08068859e-01  3.51184332e-01\n",
      "   1.85738676e-01]\n",
      " [-3.46742833e-01 -4.85738237e-01  4.68814081e-01 -2.10565724e-01\n",
      "  -1.11223655e-01]\n",
      " [-1.30019240e-02 -9.77286632e-02 -7.72766738e-01 -8.01879078e-01\n",
      "  -9.76412827e-02]\n",
      " [-4.25948699e-01  8.81874404e-01  2.94768220e-01 -7.86903444e-01\n",
      "   2.82099731e-01]\n",
      " [-5.81757993e-01 -6.73335274e-01  1.69856810e+00  3.46252807e-01\n",
      "  -3.67860090e-01]\n",
      " [-6.25634925e-02 -6.69590513e-03 -5.09719579e-01  5.74768942e-01\n",
      "   4.71853412e+00]\n",
      " [-2.29312738e-01 -8.26571323e-01  5.77815010e-02 -9.02662109e-02\n",
      "   5.76532309e-01]\n",
      " [ 8.80706539e-01  3.59939775e+00 -9.95585265e-01 -8.54025675e-01\n",
      "   1.14601876e-01]\n",
      " [ 2.27776022e-01 -3.16165392e-01 -2.21388884e-01  5.27739043e+00\n",
      "  -5.92043668e-01]\n",
      " [ 5.95976366e-01  9.03868198e-01 -4.08776304e-01 -6.76506417e-01\n",
      "  -5.66464982e-01]\n",
      " [-5.86954335e-01  8.85688436e-01 -7.40946542e-01 -6.06293754e-01\n",
      "  -8.27790587e-01]\n",
      " [ 7.77526276e-02  5.66628909e-01 -2.34142114e-01 -1.84888201e-01\n",
      "  -5.43540509e-01]\n",
      " [ 2.85299092e-01  3.30309560e-01 -7.48853650e-01  2.41378703e-01\n",
      "  -5.29561243e-01]\n",
      " [-3.94392363e-01  2.05912604e+00 -3.01512013e-01 -1.40071999e-01\n",
      "  -9.40840685e-01]\n",
      " [-3.59610107e-01 -8.75963848e-01 -7.88910670e-01 -5.99550372e-01\n",
      "  -2.63001513e-01]\n",
      " [-5.89666070e-01 -1.71954567e-01 -3.19794212e-01  1.85377374e-01\n",
      "   1.92822369e+00]\n",
      " [-4.02642726e-01  3.32416880e+00 -2.60859541e-01  9.46705568e-01\n",
      "   7.32712503e-01]\n",
      " [-6.10061149e-01 -7.11322498e-01 -2.83932659e-01 -2.34640683e-01\n",
      "  -6.68917893e-02]\n",
      " [-1.12328976e-01 -4.67939778e-01  1.42415629e+00 -7.65756117e-01\n",
      "  -6.76633542e-01]\n",
      " [-3.07861605e-01 -2.12604230e-01 -2.39839447e-01 -4.28620470e-01\n",
      "   2.07268278e+00]\n",
      " [-2.62873998e-01 -7.08117906e-01  1.38784087e-01 -6.56426463e-01\n",
      "   8.52979113e-02]\n",
      " [-2.27449792e-01 -2.29854270e-01  1.50585405e-01 -5.65302933e-01\n",
      "   2.48846880e-01]\n",
      " [-8.33449290e-02  1.22221752e-01 -3.03304154e-01 -2.93174342e-01\n",
      "   3.95454276e-01]\n",
      " [ 6.32795512e-02 -6.02677616e-01 -9.12630354e-01 -6.23774669e-01\n",
      "   2.32817408e+00]\n",
      " [ 6.47297293e+00 -6.49379994e-01 -6.11137398e-01 -5.96926027e-01\n",
      "  -8.19643041e-01]\n",
      " [-3.15505008e-01  3.33267902e-01  8.54461860e-02 -4.08564451e-01\n",
      "  -6.29431053e-01]\n",
      " [ 4.16780825e-01 -4.35772816e-01  1.12517519e+00 -1.60511383e-01\n",
      "  -2.69186763e-01]\n",
      " [-4.78398763e-01  2.11720115e+00  1.34867230e-01 -4.18651121e-01\n",
      "  -4.39133784e-01]\n",
      " [-8.05750993e-02 -7.29494537e-01  3.82858545e+00 -7.25757054e-01\n",
      "  -8.96674793e-01]\n",
      " [-3.60719377e-01 -5.97736629e-01 -5.36108693e-01 -5.12528489e-01\n",
      "   3.78524340e-01]\n",
      " [-3.44685073e-01 -5.78114305e-01 -8.41301761e-01 -1.64710781e-01\n",
      "  -5.76096422e-01]\n",
      " [-4.60812133e-01 -3.30844949e-01 -3.36683107e-01 -6.08425903e-01\n",
      "  -7.99076725e-01]\n",
      " [-1.40586132e-01 -4.20676183e-01  7.64431021e-02 -5.49437127e-01\n",
      "  -7.32415101e-01]\n",
      " [-5.22426394e-01 -6.28657477e-01  2.80927840e+00  5.08481585e-01\n",
      "  -4.48160429e-01]\n",
      " [ 2.86268907e-01 -7.77726888e-01  1.58989715e+00 -3.39600394e-01\n",
      "  -1.21240833e-01]\n",
      " [-4.12742519e-02 -5.80881075e-01 -7.40534469e-01  2.20864670e-01\n",
      "  -6.24146090e-01]\n",
      " [-2.66947334e-02 -4.83352057e-01 -1.92711335e-01 -6.25649272e-01\n",
      "  -6.70661229e-01]\n",
      " [ 1.09788096e+00 -5.48907305e-01 -7.57786140e-02  1.42429832e+00\n",
      "  -7.94761263e-01]\n",
      " [ 3.98594948e-02 -7.32371800e-01 -9.24815353e-01 -5.45350971e-01\n",
      "  -7.93938698e-01]]\n",
      "Mean of each column in normalized data:\n",
      " [-3.01286773e-16 -9.99200722e-17 -1.77635684e-16  1.44328993e-16\n",
      "  7.32747196e-17]\n",
      "Standard deviation of each column in normalized data:\n",
      " [1. 1. 1. 1. 1.]\n"
     ]
    }
   ],
   "source": [
    "# Create a fake dataset with 50 examples and 5 dimensions\n",
    "data = np.exp(npr.randn(50, 5))\n",
    "\n",
    "# Compute the mean and standard deviation of each column\n",
    "column_means = np.mean(data, axis=0)\n",
    "column_std = np.std(data, axis=0)\n",
    "\n",
    "# Standardize the data\n",
    "normalized = (data - column_means) / column_std\n",
    "\n",
    "# Verify the standardization by computing the mean and standard deviation of the normalized data\n",
    "normalized_means = np.mean(normalized, axis=0)\n",
    "normalized_std = np.std(normalized, axis=0)\n",
    "\n",
    "# Print the normalized data, mean, and standard deviation\n",
    "print(\"Normalized Data:\\n\", normalized)\n",
    "print(\"Mean of each column in normalized data:\\n\", normalized_means)\n",
    "print(\"Standard deviation of each column in normalized data:\\n\", normalized_std)\n"
   ]
  },
  {
   "cell_type": "markdown",
   "id": "e1fa4f02",
   "metadata": {},
   "source": [
    "# Q3.\n",
    "a) A Vandermonde matrix is a matrix generated from a vector in which each column\n",
    "of the matrix is an integer power starting from zero. So, if I have a column vector\n",
    "[x1, x2, . . . , xN]^T,then the associated (square) Vandermonde matrix would be Use what you learned about broadcasting in the previous problem to write a\n",
    "function that will produce a Vandermonde matrix for a vector [1, 2, . . . ,N]^T\n",
    "for any N. Do it without using a loop. Here’s a stub to get you started:\n",
    "def vandermonde (N):\n",
    "vec = np.arange (N) +1\n",
    "Use your function for N = 12, store it in variable named vander, and print the result."
   ]
  },
  {
   "cell_type": "code",
   "execution_count": 40,
   "id": "b936bfdf",
   "metadata": {},
   "outputs": [
    {
     "name": "stdout",
     "output_type": "stream",
     "text": [
      "[[          1           1           1           1           1           1\n",
      "            1           1           1           1           1           1]\n",
      " [          1           2           4           8          16          32\n",
      "           64         128         256         512        1024        2048]\n",
      " [          1           3           9          27          81         243\n",
      "          729        2187        6561       19683       59049      177147]\n",
      " [          1           4          16          64         256        1024\n",
      "         4096       16384       65536      262144     1048576     4194304]\n",
      " [          1           5          25         125         625        3125\n",
      "        15625       78125      390625     1953125     9765625    48828125]\n",
      " [          1           6          36         216        1296        7776\n",
      "        46656      279936     1679616    10077696    60466176   362797056]\n",
      " [          1           7          49         343        2401       16807\n",
      "       117649      823543     5764801    40353607   282475249  1977326743]\n",
      " [          1           8          64         512        4096       32768\n",
      "       262144     2097152    16777216   134217728  1073741824           0]\n",
      " [          1           9          81         729        6561       59049\n",
      "       531441     4782969    43046721   387420489  -808182895  1316288537]\n",
      " [          1          10         100        1000       10000      100000\n",
      "      1000000    10000000   100000000  1000000000  1410065408  1215752192]\n",
      " [          1          11         121        1331       14641      161051\n",
      "      1771561    19487171   214358881 -1937019605   167620825  1843829075]\n",
      " [          1          12         144        1728       20736      248832\n",
      "      2985984    35831808   429981696   864813056  1787822080   -20971520]]\n"
     ]
    }
   ],
   "source": [
    "def vandermonde(N):\n",
    " vec = np.arange(N) + 1\n",
    " return vec[:, np.newaxis] ** (vec - 1)\n",
    "\n",
    "res = vandermonde(12)\n",
    "print(res)\n"
   ]
  },
  {
   "cell_type": "markdown",
   "id": "a1c7b8a6",
   "metadata": {},
   "source": [
    "b) Now, let’s make a pretend linear system problem with this matrix. Create a vector\n",
    "of all ones, of length 12 and call it x. Perform a matrix-vector multiplication of\n",
    "vander with the vector you just created and store that in a new vector and call it b.\n",
    "Print the vector b."
   ]
  },
  {
   "cell_type": "code",
   "execution_count": 41,
   "id": "96488ca7",
   "metadata": {},
   "outputs": [
    {
     "name": "stdout",
     "output_type": "stream",
     "text": [
      "Vector b (result of matrix-vector multiplication):\n",
      " [1.20000000e+01 4.09500000e+03 2.65720000e+05 5.59240500e+06\n",
      " 6.10351560e+07 4.35356467e+08 2.30688120e+09 1.22713351e+09\n",
      " 9.43953692e+08 3.73692871e+09 3.10225064e+08 3.10073456e+09]\n"
     ]
    }
   ],
   "source": [
    "# Assuming `vander` is a 12 x 12 matrix (as described previously)\n",
    "# Create the Vandermonde matrix for demonstration (if not already defined)\n",
    "vander = np.vander(np.arange(1, 13), increasing=True)  # 12x12 matrix with increasing order\n",
    "\n",
    "# Create a vector of all ones of length 12\n",
    "x = np.ones(12)\n",
    "\n",
    "# Perform matrix-vector multiplication: b = vander * x\n",
    "b = np.dot(vander, x)\n",
    "\n",
    "# Print the resulting vector b\n",
    "print(\"Vector b (result of matrix-vector multiplication):\\n\", b)\n"
   ]
  },
  {
   "cell_type": "markdown",
   "id": "327eb21a",
   "metadata": {},
   "source": [
    "c) First, solve the linear system the naïve way, pretending like you don’t know x.\n",
    "Import numpy.linalg, invert V and multiply it by b. Print out your result. What\n",
    "should you get for your answer? If the answer is different than what you\n",
    "expected, write a sentence about that difference."
   ]
  },
  {
   "cell_type": "code",
   "execution_count": 42,
   "id": "a70c285f",
   "metadata": {},
   "outputs": [
    {
     "name": "stdout",
     "output_type": "stream",
     "text": [
      "Computed x using matrix inversion:\n",
      " [0.99888229 1.00003433 1.00135422 0.99969292 1.00003338 0.99999869\n",
      " 0.99999999 1.         1.         1.         1.         1.        ]\n",
      "Expected x (all ones):\n",
      " [1. 1. 1. 1. 1. 1. 1. 1. 1. 1. 1. 1.]\n"
     ]
    }
   ],
   "source": [
    "# Assuming `vander` is the same 12x12 matrix used previously\n",
    "vander = np.vander(np.arange(1, 13), increasing=True)\n",
    "\n",
    "# Create a vector of all ones for x (length 12)\n",
    "x = np.ones(12)\n",
    "\n",
    "# Compute b using matrix-vector multiplication\n",
    "b = np.dot(vander, x)\n",
    "\n",
    "# Import the linalg module to compute the inverse\n",
    "import numpy.linalg as la\n",
    "\n",
    "# Compute the inverse of `vander`\n",
    "vander_inv = la.inv(vander)\n",
    "\n",
    "# Solve for x using matrix multiplication: x = V^(-1) * b\n",
    "x_solution = np.dot(vander_inv, b)\n",
    "\n",
    "# Print the resulting vector x\n",
    "print(\"Computed x using matrix inversion:\\n\", x_solution)\n",
    "\n",
    "# Expected result\n",
    "print(\"Expected x (all ones):\\n\", x)\n"
   ]
  },
  {
   "cell_type": "markdown",
   "id": "0ce7441c",
   "metadata": {},
   "source": [
    "d) Now, solve the same linear system using solve. Print out the result. Does it seem\n",
    "more or less in line with what you’d expect?"
   ]
  },
  {
   "cell_type": "code",
   "execution_count": 43,
   "id": "9b3e9b07",
   "metadata": {},
   "outputs": [
    {
     "name": "stdout",
     "output_type": "stream",
     "text": [
      "Solution using np.linalg.solve:\n",
      " [0.99998821 1.00003034 0.99996973 1.00001556 0.99999545 1.00000078\n",
      " 0.99999992 1.         1.         1.         1.         1.        ]\n",
      "Expected x (all ones):\n",
      " [1. 1. 1. 1. 1. 1. 1. 1. 1. 1. 1. 1.]\n"
     ]
    }
   ],
   "source": [
    "# Assuming `vander` is the same 12x12 matrix used previously\n",
    "vander = np.vander(np.arange(1, 13), increasing=True)\n",
    "\n",
    "# Create a vector of all ones for x (length 12)\n",
    "x = np.ones(12)\n",
    "\n",
    "# Compute b using matrix-vector multiplication\n",
    "b = np.dot(vander, x)\n",
    "\n",
    "# Solve the linear system using np.linalg.solve\n",
    "x_solved = la.solve(vander, b)\n",
    "\n",
    "# Print the resulting vector x_solved\n",
    "print(\"Solution using np.linalg.solve:\\n\", x_solved)\n",
    "\n",
    "# Expected result\n",
    "print(\"Expected x (all ones):\\n\", x)\n"
   ]
  },
  {
   "cell_type": "markdown",
   "id": "b0f28eec",
   "metadata": {},
   "source": [
    "https://github.com/dishang8/Dishang_Dalwadi_24_27_12"
   ]
  },
  {
   "cell_type": "code",
   "execution_count": null,
   "id": "a6f24ddf",
   "metadata": {},
   "outputs": [],
   "source": []
  }
 ],
 "metadata": {
  "kernelspec": {
   "display_name": "Python 3",
   "language": "python",
   "name": "python3"
  },
  "language_info": {
   "codemirror_mode": {
    "name": "ipython",
    "version": 3
   },
   "file_extension": ".py",
   "mimetype": "text/x-python",
   "name": "python",
   "nbconvert_exporter": "python",
   "pygments_lexer": "ipython3",
   "version": "3.8.8"
  }
 },
 "nbformat": 4,
 "nbformat_minor": 5
}
